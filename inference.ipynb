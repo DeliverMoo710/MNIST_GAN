{
 "cells": [
  {
   "cell_type": "code",
   "execution_count": null,
   "id": "c47a83e0",
   "metadata": {},
   "outputs": [],
   "source": [
    "# import relevant libraries"
   ]
  },
  {
   "cell_type": "code",
   "execution_count": null,
   "id": "369c24e7",
   "metadata": {},
   "outputs": [],
   "source": [
    "# load model state dict"
   ]
  },
  {
   "cell_type": "code",
   "execution_count": null,
   "id": "164b5d81",
   "metadata": {},
   "outputs": [],
   "source": [
    "# generate random noise and pass it through the generator n times"
   ]
  },
  {
   "cell_type": "code",
   "execution_count": null,
   "id": "75a94fac",
   "metadata": {},
   "outputs": [],
   "source": [
    "# disply as a collage using pyplot"
   ]
  }
 ],
 "metadata": {
  "kernelspec": {
   "display_name": ".venv",
   "language": "python",
   "name": "python3"
  },
  "language_info": {
   "name": "python",
   "version": "3.12.0"
  }
 },
 "nbformat": 4,
 "nbformat_minor": 5
}
