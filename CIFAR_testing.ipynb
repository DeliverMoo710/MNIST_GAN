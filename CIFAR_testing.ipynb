{
 "cells": [
  {
   "cell_type": "code",
   "execution_count": 7,
   "id": "cea12ef2",
   "metadata": {},
   "outputs": [],
   "source": [
    "import os\n",
    "\n",
    "import torch\n",
    "import torch.nn as nn\n",
    "import torch.nn.functional as F\n",
    "import torchvision\n",
    "import torchvision.transforms as transforms\n",
    "from torch.utils.data import DataLoader, random_split, Dataset\n",
    "import torchvision.datasets as datasets\n",
    "from torchvision.datasets import CIFAR10\n",
    "import torch.optim as optim\n",
    "\n",
    "import numpy as np\n",
    "import pandas as pd\n",
    "import matplotlib.pyplot as plt\n",
    "\n",
    "from tqdm import tqdm\n",
    "from torch.utils.tensorboard import SummaryWriter  \n",
    "\n",
    "import warnings\n",
    "warnings.filterwarnings(\"ignore\")"
   ]
  },
  {
   "cell_type": "code",
   "execution_count": 3,
   "id": "a6df49e5",
   "metadata": {},
   "outputs": [],
   "source": [
    "### Hyperparameters\n",
    "\n",
    "device = \"cuda\" if torch.cuda.is_available() else \"cpu\"\n",
    "lr = 3e-4\n",
    "z_dim = 3072\n",
    "image_dim = 32 * 32 * 3  # 784\n",
    "batch_size = 32\n",
    "num_epochs = 50"
   ]
  },
  {
   "cell_type": "code",
   "execution_count": 4,
   "id": "9fea87aa",
   "metadata": {},
   "outputs": [
    {
     "ename": "NameError",
     "evalue": "name 'Dataset' is not defined",
     "output_type": "error",
     "traceback": [
      "\u001b[31m---------------------------------------------------------------------------\u001b[39m",
      "\u001b[31mNameError\u001b[39m                                 Traceback (most recent call last)",
      "\u001b[36mCell\u001b[39m\u001b[36m \u001b[39m\u001b[32mIn[4]\u001b[39m\u001b[32m, line 3\u001b[39m\n\u001b[32m      1\u001b[39m \u001b[38;5;66;03m# dataset module\u001b[39;00m\n\u001b[32m----> \u001b[39m\u001b[32m3\u001b[39m \u001b[38;5;28;01mclass\u001b[39;00m\u001b[38;5;250m \u001b[39m\u001b[34;01mCIFARDataset\u001b[39;00m(\u001b[43mDataset\u001b[49m):\n\u001b[32m      4\u001b[39m \u001b[38;5;250m    \u001b[39m\u001b[33;03m'''\u001b[39;00m\n\u001b[32m      5\u001b[39m \u001b[33;03m    downloads MNIST dataset, performs splitting and transformation, and returns dataloaders\u001b[39;00m\n\u001b[32m      6\u001b[39m \u001b[33;03m    '''\u001b[39;00m\n\u001b[32m      7\u001b[39m     \u001b[38;5;28;01mdef\u001b[39;00m\u001b[38;5;250m \u001b[39m\u001b[34m__init__\u001b[39m(\u001b[38;5;28mself\u001b[39m, root = \u001b[33m'\u001b[39m\u001b[33m./data\u001b[39m\u001b[33m'\u001b[39m, download = \u001b[38;5;28;01mTrue\u001b[39;00m, transform = \u001b[38;5;28;01mNone\u001b[39;00m):\n\u001b[32m      8\u001b[39m         \u001b[38;5;66;03m# download mnist dataset\u001b[39;00m\n",
      "\u001b[31mNameError\u001b[39m: name 'Dataset' is not defined"
     ]
    }
   ],
   "source": [
    "# dataset module\n",
    "\n",
    "class CIFARDataset(Dataset):\n",
    "    '''\n",
    "    downloads MNIST dataset, performs splitting and transformation, and returns dataloaders\n",
    "    '''\n",
    "    def __init__(self, root = './data', download = True, transform = None):\n",
    "        # download mnist dataset\n",
    "        self.cifar = CIFAR10(root = root, download = download)\n",
    "\n",
    "        # default transformation if no specific transformation is provided\n",
    "        if transform is None:\n",
    "            self.transform = transforms.Compose([\n",
    "                transforms.ToTensor(),\n",
    "                transforms.Normalize((0.49139968, 0.48215827, 0.44653124), (0.24703233, 0.24348505, 0.26158768))\n",
    "            ])\n",
    "        else:\n",
    "            self.transform = transform\n",
    "\n",
    "        self.indices = list(range(len(self.cifar)))\n",
    "\n",
    "    def __len__(self):\n",
    "        return len(self.indices)\n",
    "    \n",
    "    def __getitem__(self, idx):\n",
    "        img, _ = self.cifar[self.indices[idx]]\n",
    "    \n",
    "        if self.transform:\n",
    "            img = self.transform(img)\n",
    "\n",
    "        return img\n",
    "    \n",
    "    def get_dataloader(self, batch_size = batch_size, shuffle = True):\n",
    "        return DataLoader(self, batch_size = batch_size, shuffle = shuffle)\n"
   ]
  },
  {
   "cell_type": "code",
   "execution_count": 10,
   "id": "3c74f06e",
   "metadata": {},
   "outputs": [],
   "source": [
    "train_dataset = CIFARDataset()\n",
    "train_dataloader = train_dataset.get_dataloader()\n"
   ]
  },
  {
   "cell_type": "code",
   "execution_count": 14,
   "id": "55e9aedd",
   "metadata": {},
   "outputs": [],
   "source": [
    "# discriminator class\n",
    "class Discriminator(nn.Module):\n",
    "    def __init__(self, in_channels = 3):\n",
    "        super().__init__()\n",
    "        # Simple CNN\n",
    "        self.in_channels = in_channels\n",
    "\n",
    "        self.conv1 = nn.Conv2d(in_channels, 64, kernel_size=4, stride = 2, padding = 1)\n",
    "        self.conv2 = nn.Conv2d(64, 128, kernel_size=4, stride = 2, padding = 1)\n",
    "        self.conv3 = nn.Conv2d(128, 256, kernel_size = 4, stride = 2, padding = 1)\n",
    "\n",
    "        self.bn1 = nn.BatchNorm2d(128)\n",
    "        self.bn2 = nn.BatchNorm2d(256)\n",
    "\n",
    "        self.fc = nn.Linear(256 * 4 * 4, 1)\n",
    "\n",
    "  \n",
    "    def forward(self, x):\n",
    "        x = F.leaky_relu(self.conv1(x), 0.2, inplace = True)\n",
    "        x = F.leaky_relu(self.bn1(self.conv2(x)), 0.2, inplace = True)\n",
    "        x = F.leaky_relu(self.bn2(self.conv3(x)), 0.2, inplace = True)\n",
    "        # Flatten the tensor so it can be fed into the FC layers\n",
    "        x = x.view(x.shape[0], -1)\n",
    "        x = self.fc(x)\n",
    "        return torch.sigmoid(x)\n"
   ]
  },
  {
   "cell_type": "code",
   "execution_count": 12,
   "id": "ece90350",
   "metadata": {},
   "outputs": [],
   "source": [
    "class Generator(nn.Module):\n",
    "    '''\n",
    "    Generates new images from random noise\n",
    "    in: latent_dim 256*8*8\n",
    "    out: 32x32\n",
    "    '''\n",
    "    def __init__(self, z_dim):\n",
    "        super().__init__()\n",
    "        self.gen = nn.Sequential(\n",
    "        nn.Linear(z_dim, 8*8*64), # [32, 256] -> [32, 4096]\n",
    "        nn.ReLU(),\n",
    "        nn.Unflatten(1, (64, 8, 8)), # [32, 4096] -> [32, 64, 8, 8]\n",
    "        nn.ConvTranspose2d(64, 32, kernel_size=4, stride=2, padding = 1),  # [32, 64, 8, 8] -> [32, 32, 16, 16]\n",
    "        nn.ReLU(),\n",
    "        nn.ConvTranspose2d(32, 16, kernel_size=4, stride=2, padding = 1),  # [32, 32, 16, 16] -> [32, 16, 32, 32]\n",
    "        nn.ReLU(),\n",
    "        )\n",
    "        self.conv = nn.Conv2d(16, 3, kernel_size = 3, padding = 1) # [32, 16, 32, 32] -> [32, 3, 32, 32]\n",
    "    \n",
    "    def forward(self, x):\n",
    "        return self.conv(self.gen(x))"
   ]
  },
  {
   "cell_type": "code",
   "execution_count": null,
   "id": "78ba2e54",
   "metadata": {},
   "outputs": [
    {
     "name": "stderr",
     "output_type": "stream",
     "text": [
      "  0%|          | 0/1563 [00:00<?, ?it/s]"
     ]
    },
    {
     "name": "stdout",
     "output_type": "stream",
     "text": [
      "Epoch [0/50] Batch 0/1563                       Loss D: 0.7483, loss G: 4.2223\n"
     ]
    },
    {
     "name": "stderr",
     "output_type": "stream",
     "text": [
      "100%|██████████| 1563/1563 [01:06<00:00, 23.43it/s]\n",
      "  0%|          | 1/1563 [00:00<04:34,  5.70it/s]"
     ]
    },
    {
     "name": "stdout",
     "output_type": "stream",
     "text": [
      "Epoch [1/50] Batch 0/1563                       Loss D: 0.0091, loss G: 6.1035\n"
     ]
    },
    {
     "name": "stderr",
     "output_type": "stream",
     "text": [
      "100%|██████████| 1563/1563 [01:08<00:00, 22.80it/s]\n",
      "  0%|          | 2/1563 [00:00<02:12, 11.74it/s]"
     ]
    },
    {
     "name": "stdout",
     "output_type": "stream",
     "text": [
      "Epoch [2/50] Batch 0/1563                       Loss D: 0.1460, loss G: 2.3351\n"
     ]
    },
    {
     "name": "stderr",
     "output_type": "stream",
     "text": [
      "100%|██████████| 1563/1563 [01:10<00:00, 22.11it/s]\n",
      "  0%|          | 1/1563 [00:00<03:28,  7.50it/s]"
     ]
    },
    {
     "name": "stdout",
     "output_type": "stream",
     "text": [
      "Epoch [3/50] Batch 0/1563                       Loss D: 0.0462, loss G: 6.0918\n"
     ]
    },
    {
     "name": "stderr",
     "output_type": "stream",
     "text": [
      "100%|██████████| 1563/1563 [01:06<00:00, 23.41it/s]\n",
      "  0%|          | 1/1563 [00:00<04:05,  6.37it/s]"
     ]
    },
    {
     "name": "stdout",
     "output_type": "stream",
     "text": [
      "Epoch [4/50] Batch 0/1563                       Loss D: 0.0795, loss G: 4.1715\n"
     ]
    },
    {
     "name": "stderr",
     "output_type": "stream",
     "text": [
      "100%|██████████| 1563/1563 [01:10<00:00, 22.14it/s]\n",
      "  0%|          | 2/1563 [00:00<01:51, 14.02it/s]"
     ]
    },
    {
     "name": "stdout",
     "output_type": "stream",
     "text": [
      "Epoch [5/50] Batch 0/1563                       Loss D: 0.0522, loss G: 5.4194\n"
     ]
    },
    {
     "name": "stderr",
     "output_type": "stream",
     "text": [
      "100%|██████████| 1563/1563 [00:59<00:00, 26.11it/s]\n",
      "  0%|          | 1/1563 [00:00<03:35,  7.26it/s]"
     ]
    },
    {
     "name": "stdout",
     "output_type": "stream",
     "text": [
      "Epoch [6/50] Batch 0/1563                       Loss D: 0.0406, loss G: 6.2365\n"
     ]
    },
    {
     "name": "stderr",
     "output_type": "stream",
     "text": [
      "100%|██████████| 1563/1563 [00:55<00:00, 28.12it/s]\n",
      "  0%|          | 2/1563 [00:00<01:46, 14.70it/s]"
     ]
    },
    {
     "name": "stdout",
     "output_type": "stream",
     "text": [
      "Epoch [7/50] Batch 0/1563                       Loss D: 0.0823, loss G: 4.3812\n"
     ]
    },
    {
     "name": "stderr",
     "output_type": "stream",
     "text": [
      "100%|██████████| 1563/1563 [00:58<00:00, 26.73it/s]\n",
      "  0%|          | 1/1563 [00:00<03:53,  6.70it/s]"
     ]
    },
    {
     "name": "stdout",
     "output_type": "stream",
     "text": [
      "Epoch [8/50] Batch 0/1563                       Loss D: 0.0407, loss G: 4.9966\n"
     ]
    },
    {
     "name": "stderr",
     "output_type": "stream",
     "text": [
      "100%|██████████| 1563/1563 [00:55<00:00, 27.95it/s]\n",
      "  0%|          | 2/1563 [00:00<01:56, 13.40it/s]"
     ]
    },
    {
     "name": "stdout",
     "output_type": "stream",
     "text": [
      "Epoch [9/50] Batch 0/1563                       Loss D: 0.2573, loss G: 4.3222\n"
     ]
    },
    {
     "name": "stderr",
     "output_type": "stream",
     "text": [
      "100%|██████████| 1563/1563 [00:58<00:00, 26.50it/s]\n",
      "  0%|          | 1/1563 [00:00<03:25,  7.59it/s]"
     ]
    },
    {
     "name": "stdout",
     "output_type": "stream",
     "text": [
      "Epoch [10/50] Batch 0/1563                       Loss D: 0.1098, loss G: 8.2010\n"
     ]
    },
    {
     "name": "stderr",
     "output_type": "stream",
     "text": [
      "100%|██████████| 1563/1563 [00:59<00:00, 26.08it/s]\n",
      "  0%|          | 1/1563 [00:00<03:53,  6.70it/s]"
     ]
    },
    {
     "name": "stdout",
     "output_type": "stream",
     "text": [
      "Epoch [11/50] Batch 0/1563                       Loss D: 0.0572, loss G: 5.9131\n"
     ]
    },
    {
     "name": "stderr",
     "output_type": "stream",
     "text": [
      "100%|██████████| 1563/1563 [01:03<00:00, 24.64it/s]\n",
      "  0%|          | 1/1563 [00:00<03:42,  7.03it/s]"
     ]
    },
    {
     "name": "stdout",
     "output_type": "stream",
     "text": [
      "Epoch [12/50] Batch 0/1563                       Loss D: 0.1050, loss G: 3.2216\n"
     ]
    },
    {
     "name": "stderr",
     "output_type": "stream",
     "text": [
      "100%|██████████| 1563/1563 [00:59<00:00, 26.47it/s]\n",
      "  0%|          | 1/1563 [00:00<03:43,  7.00it/s]"
     ]
    },
    {
     "name": "stdout",
     "output_type": "stream",
     "text": [
      "Epoch [13/50] Batch 0/1563                       Loss D: 0.5196, loss G: 5.7392\n"
     ]
    },
    {
     "name": "stderr",
     "output_type": "stream",
     "text": [
      "100%|██████████| 1563/1563 [00:56<00:00, 27.49it/s]\n",
      "  0%|          | 3/1563 [00:00<01:51, 13.97it/s]"
     ]
    },
    {
     "name": "stdout",
     "output_type": "stream",
     "text": [
      "Epoch [14/50] Batch 0/1563                       Loss D: 0.0471, loss G: 3.5573\n"
     ]
    },
    {
     "name": "stderr",
     "output_type": "stream",
     "text": [
      "100%|██████████| 1563/1563 [00:57<00:00, 27.31it/s]\n",
      "  0%|          | 1/1563 [00:00<03:46,  6.88it/s]"
     ]
    },
    {
     "name": "stdout",
     "output_type": "stream",
     "text": [
      "Epoch [15/50] Batch 0/1563                       Loss D: 0.0315, loss G: 5.4091\n"
     ]
    },
    {
     "name": "stderr",
     "output_type": "stream",
     "text": [
      "100%|██████████| 1563/1563 [00:58<00:00, 26.92it/s]\n",
      "  0%|          | 3/1563 [00:00<01:44, 14.87it/s]"
     ]
    },
    {
     "name": "stdout",
     "output_type": "stream",
     "text": [
      "Epoch [16/50] Batch 0/1563                       Loss D: 0.0597, loss G: 4.8622\n"
     ]
    },
    {
     "name": "stderr",
     "output_type": "stream",
     "text": [
      "100%|██████████| 1563/1563 [01:02<00:00, 24.88it/s]\n",
      "  0%|          | 1/1563 [00:00<04:01,  6.48it/s]"
     ]
    },
    {
     "name": "stdout",
     "output_type": "stream",
     "text": [
      "Epoch [17/50] Batch 0/1563                       Loss D: 0.0094, loss G: 5.0590\n"
     ]
    },
    {
     "name": "stderr",
     "output_type": "stream",
     "text": [
      "100%|██████████| 1563/1563 [01:00<00:00, 25.85it/s]\n",
      "  0%|          | 1/1563 [00:00<03:47,  6.87it/s]"
     ]
    },
    {
     "name": "stdout",
     "output_type": "stream",
     "text": [
      "Epoch [18/50] Batch 0/1563                       Loss D: 0.0075, loss G: 5.7026\n"
     ]
    },
    {
     "name": "stderr",
     "output_type": "stream",
     "text": [
      "100%|██████████| 1563/1563 [01:06<00:00, 23.56it/s]\n",
      "  0%|          | 4/1563 [00:00<01:21, 19.16it/s]"
     ]
    },
    {
     "name": "stdout",
     "output_type": "stream",
     "text": [
      "Epoch [19/50] Batch 0/1563                       Loss D: 0.4244, loss G: 9.2599\n"
     ]
    },
    {
     "name": "stderr",
     "output_type": "stream",
     "text": [
      "100%|██████████| 1563/1563 [00:56<00:00, 27.58it/s]\n",
      "  0%|          | 1/1563 [00:00<03:34,  7.29it/s]"
     ]
    },
    {
     "name": "stdout",
     "output_type": "stream",
     "text": [
      "Epoch [20/50] Batch 0/1563                       Loss D: 0.0546, loss G: 5.1197\n"
     ]
    },
    {
     "name": "stderr",
     "output_type": "stream",
     "text": [
      "100%|██████████| 1563/1563 [00:53<00:00, 29.07it/s]\n",
      "  0%|          | 2/1563 [00:00<01:51, 13.95it/s]"
     ]
    },
    {
     "name": "stdout",
     "output_type": "stream",
     "text": [
      "Epoch [21/50] Batch 0/1563                       Loss D: 0.0143, loss G: 5.6359\n"
     ]
    },
    {
     "name": "stderr",
     "output_type": "stream",
     "text": [
      "100%|██████████| 1563/1563 [00:56<00:00, 27.62it/s]\n",
      "  0%|          | 1/1563 [00:00<03:07,  8.35it/s]"
     ]
    },
    {
     "name": "stdout",
     "output_type": "stream",
     "text": [
      "Epoch [22/50] Batch 0/1563                       Loss D: 0.0099, loss G: 8.7102\n"
     ]
    },
    {
     "name": "stderr",
     "output_type": "stream",
     "text": [
      "100%|██████████| 1563/1563 [00:56<00:00, 27.48it/s]\n",
      "  0%|          | 1/1563 [00:00<03:33,  7.33it/s]"
     ]
    },
    {
     "name": "stdout",
     "output_type": "stream",
     "text": [
      "Epoch [23/50] Batch 0/1563                       Loss D: 0.0873, loss G: 4.7444\n"
     ]
    },
    {
     "name": "stderr",
     "output_type": "stream",
     "text": [
      "100%|██████████| 1563/1563 [01:35<00:00, 16.43it/s]\n",
      "  0%|          | 1/1563 [00:00<06:21,  4.10it/s]"
     ]
    },
    {
     "name": "stdout",
     "output_type": "stream",
     "text": [
      "Epoch [24/50] Batch 0/1563                       Loss D: 0.0279, loss G: 3.5108\n"
     ]
    },
    {
     "name": "stderr",
     "output_type": "stream",
     "text": [
      "100%|██████████| 1563/1563 [01:33<00:00, 16.70it/s]\n",
      "  0%|          | 1/1563 [00:00<06:38,  3.92it/s]"
     ]
    },
    {
     "name": "stdout",
     "output_type": "stream",
     "text": [
      "Epoch [25/50] Batch 0/1563                       Loss D: 0.0077, loss G: 5.2359\n"
     ]
    },
    {
     "name": "stderr",
     "output_type": "stream",
     "text": [
      "100%|██████████| 1563/1563 [01:23<00:00, 18.66it/s]\n",
      "  0%|          | 1/1563 [00:00<04:02,  6.45it/s]"
     ]
    },
    {
     "name": "stdout",
     "output_type": "stream",
     "text": [
      "Epoch [26/50] Batch 0/1563                       Loss D: 0.0055, loss G: 9.0361\n"
     ]
    },
    {
     "name": "stderr",
     "output_type": "stream",
     "text": [
      "100%|██████████| 1563/1563 [01:19<00:00, 19.76it/s]\n",
      "  0%|          | 2/1563 [00:00<03:51,  6.73it/s]"
     ]
    },
    {
     "name": "stdout",
     "output_type": "stream",
     "text": [
      "Epoch [27/50] Batch 0/1563                       Loss D: 0.0526, loss G: 3.6349\n"
     ]
    },
    {
     "name": "stderr",
     "output_type": "stream",
     "text": [
      "100%|██████████| 1563/1563 [01:23<00:00, 18.78it/s]\n",
      "  0%|          | 1/1563 [00:00<05:15,  4.96it/s]"
     ]
    },
    {
     "name": "stdout",
     "output_type": "stream",
     "text": [
      "Epoch [28/50] Batch 0/1563                       Loss D: 0.0275, loss G: 9.7978\n"
     ]
    },
    {
     "name": "stderr",
     "output_type": "stream",
     "text": [
      "100%|██████████| 1563/1563 [01:33<00:00, 16.73it/s]\n",
      "  0%|          | 1/1563 [00:00<04:14,  6.14it/s]"
     ]
    },
    {
     "name": "stdout",
     "output_type": "stream",
     "text": [
      "Epoch [29/50] Batch 0/1563                       Loss D: 0.1289, loss G: 2.9012\n"
     ]
    },
    {
     "name": "stderr",
     "output_type": "stream",
     "text": [
      "100%|██████████| 1563/1563 [01:29<00:00, 17.46it/s]\n",
      "  0%|          | 1/1563 [00:00<05:37,  4.63it/s]"
     ]
    },
    {
     "name": "stdout",
     "output_type": "stream",
     "text": [
      "Epoch [30/50] Batch 0/1563                       Loss D: 0.0112, loss G: 6.0238\n"
     ]
    },
    {
     "name": "stderr",
     "output_type": "stream",
     "text": [
      "100%|██████████| 1563/1563 [01:33<00:00, 16.73it/s]\n",
      "  0%|          | 1/1563 [00:00<07:12,  3.61it/s]"
     ]
    },
    {
     "name": "stdout",
     "output_type": "stream",
     "text": [
      "Epoch [31/50] Batch 0/1563                       Loss D: 0.0149, loss G: 5.4981\n"
     ]
    },
    {
     "name": "stderr",
     "output_type": "stream",
     "text": [
      "100%|██████████| 1563/1563 [01:21<00:00, 19.07it/s]\n",
      "  0%|          | 1/1563 [00:00<04:39,  5.58it/s]"
     ]
    },
    {
     "name": "stdout",
     "output_type": "stream",
     "text": [
      "Epoch [32/50] Batch 0/1563                       Loss D: 0.1396, loss G: 5.7951\n"
     ]
    },
    {
     "name": "stderr",
     "output_type": "stream",
     "text": [
      "100%|██████████| 1563/1563 [01:23<00:00, 18.74it/s]\n",
      "  0%|          | 1/1563 [00:00<05:05,  5.12it/s]"
     ]
    },
    {
     "name": "stdout",
     "output_type": "stream",
     "text": [
      "Epoch [33/50] Batch 0/1563                       Loss D: 0.3403, loss G: 1.4942\n"
     ]
    },
    {
     "name": "stderr",
     "output_type": "stream",
     "text": [
      "100%|██████████| 1563/1563 [01:21<00:00, 19.18it/s]\n",
      "  0%|          | 1/1563 [00:00<04:35,  5.66it/s]"
     ]
    },
    {
     "name": "stdout",
     "output_type": "stream",
     "text": [
      "Epoch [34/50] Batch 0/1563                       Loss D: 0.0315, loss G: 8.1948\n"
     ]
    },
    {
     "name": "stderr",
     "output_type": "stream",
     "text": [
      "100%|██████████| 1563/1563 [01:28<00:00, 17.76it/s]\n",
      "  0%|          | 1/1563 [00:00<05:04,  5.14it/s]"
     ]
    },
    {
     "name": "stdout",
     "output_type": "stream",
     "text": [
      "Epoch [35/50] Batch 0/1563                       Loss D: 0.0090, loss G: 4.8055\n"
     ]
    },
    {
     "name": "stderr",
     "output_type": "stream",
     "text": [
      "100%|██████████| 1563/1563 [01:28<00:00, 17.57it/s]\n",
      "  0%|          | 1/1563 [00:00<05:47,  4.49it/s]"
     ]
    },
    {
     "name": "stdout",
     "output_type": "stream",
     "text": [
      "Epoch [36/50] Batch 0/1563                       Loss D: 0.0552, loss G: 6.3044\n"
     ]
    },
    {
     "name": "stderr",
     "output_type": "stream",
     "text": [
      "100%|██████████| 1563/1563 [01:28<00:00, 17.60it/s]\n",
      "  0%|          | 1/1563 [00:00<04:37,  5.64it/s]"
     ]
    },
    {
     "name": "stdout",
     "output_type": "stream",
     "text": [
      "Epoch [37/50] Batch 0/1563                       Loss D: 0.0059, loss G: 8.3438\n"
     ]
    },
    {
     "name": "stderr",
     "output_type": "stream",
     "text": [
      "100%|██████████| 1563/1563 [01:30<00:00, 17.29it/s]\n",
      "  0%|          | 1/1563 [00:00<03:52,  6.72it/s]"
     ]
    },
    {
     "name": "stdout",
     "output_type": "stream",
     "text": [
      "Epoch [38/50] Batch 0/1563                       Loss D: 0.0010, loss G: 8.3057\n"
     ]
    },
    {
     "name": "stderr",
     "output_type": "stream",
     "text": [
      "100%|██████████| 1563/1563 [01:16<00:00, 20.34it/s]\n",
      "  0%|          | 1/1563 [00:00<05:20,  4.88it/s]"
     ]
    },
    {
     "name": "stdout",
     "output_type": "stream",
     "text": [
      "Epoch [39/50] Batch 0/1563                       Loss D: 0.0174, loss G: 3.5673\n"
     ]
    },
    {
     "name": "stderr",
     "output_type": "stream",
     "text": [
      "100%|██████████| 1563/1563 [01:17<00:00, 20.07it/s]\n",
      "  0%|          | 1/1563 [00:00<04:42,  5.52it/s]"
     ]
    },
    {
     "name": "stdout",
     "output_type": "stream",
     "text": [
      "Epoch [40/50] Batch 0/1563                       Loss D: 0.0327, loss G: 7.1182\n"
     ]
    },
    {
     "name": "stderr",
     "output_type": "stream",
     "text": [
      "100%|██████████| 1563/1563 [01:15<00:00, 20.66it/s]\n",
      "  0%|          | 1/1563 [00:00<04:45,  5.47it/s]"
     ]
    },
    {
     "name": "stdout",
     "output_type": "stream",
     "text": [
      "Epoch [41/50] Batch 0/1563                       Loss D: 0.2730, loss G: 3.2670\n"
     ]
    },
    {
     "name": "stderr",
     "output_type": "stream",
     "text": [
      "100%|██████████| 1563/1563 [01:16<00:00, 20.37it/s]\n",
      "  0%|          | 1/1563 [00:00<03:37,  7.17it/s]"
     ]
    },
    {
     "name": "stdout",
     "output_type": "stream",
     "text": [
      "Epoch [42/50] Batch 0/1563                       Loss D: 0.2869, loss G: 9.3865\n"
     ]
    },
    {
     "name": "stderr",
     "output_type": "stream",
     "text": [
      "100%|██████████| 1563/1563 [01:16<00:00, 20.46it/s]\n",
      "  0%|          | 1/1563 [00:00<04:26,  5.87it/s]"
     ]
    },
    {
     "name": "stdout",
     "output_type": "stream",
     "text": [
      "Epoch [43/50] Batch 0/1563                       Loss D: 0.0607, loss G: 4.0894\n"
     ]
    },
    {
     "name": "stderr",
     "output_type": "stream",
     "text": [
      "100%|██████████| 1563/1563 [01:16<00:00, 20.44it/s]\n",
      "  0%|          | 1/1563 [00:00<03:31,  7.38it/s]"
     ]
    },
    {
     "name": "stdout",
     "output_type": "stream",
     "text": [
      "Epoch [44/50] Batch 0/1563                       Loss D: 0.0228, loss G: 7.9989\n"
     ]
    },
    {
     "name": "stderr",
     "output_type": "stream",
     "text": [
      "100%|██████████| 1563/1563 [01:12<00:00, 21.71it/s]\n",
      "  0%|          | 1/1563 [00:00<04:29,  5.80it/s]"
     ]
    },
    {
     "name": "stdout",
     "output_type": "stream",
     "text": [
      "Epoch [45/50] Batch 0/1563                       Loss D: 0.0114, loss G: 6.8100\n"
     ]
    },
    {
     "name": "stderr",
     "output_type": "stream",
     "text": [
      "100%|██████████| 1563/1563 [01:04<00:00, 24.41it/s]\n",
      "  0%|          | 3/1563 [00:00<01:42, 15.19it/s]"
     ]
    },
    {
     "name": "stdout",
     "output_type": "stream",
     "text": [
      "Epoch [46/50] Batch 0/1563                       Loss D: 0.2038, loss G: 3.2302\n"
     ]
    },
    {
     "name": "stderr",
     "output_type": "stream",
     "text": [
      "100%|██████████| 1563/1563 [01:07<00:00, 23.16it/s]\n",
      "  0%|          | 1/1563 [00:00<03:55,  6.63it/s]"
     ]
    },
    {
     "name": "stdout",
     "output_type": "stream",
     "text": [
      "Epoch [47/50] Batch 0/1563                       Loss D: 0.0034, loss G: 8.3142\n"
     ]
    },
    {
     "name": "stderr",
     "output_type": "stream",
     "text": [
      "100%|██████████| 1563/1563 [01:04<00:00, 24.34it/s]\n",
      "  0%|          | 1/1563 [00:00<04:12,  6.20it/s]"
     ]
    },
    {
     "name": "stdout",
     "output_type": "stream",
     "text": [
      "Epoch [48/50] Batch 0/1563                       Loss D: 0.0073, loss G: 5.5699\n"
     ]
    },
    {
     "name": "stderr",
     "output_type": "stream",
     "text": [
      "100%|██████████| 1563/1563 [01:04<00:00, 24.18it/s]\n",
      "  0%|          | 1/1563 [00:00<03:38,  7.14it/s]"
     ]
    },
    {
     "name": "stdout",
     "output_type": "stream",
     "text": [
      "Epoch [49/50] Batch 0/1563                       Loss D: 0.0032, loss G: 8.5442\n"
     ]
    },
    {
     "name": "stderr",
     "output_type": "stream",
     "text": [
      "100%|██████████| 1563/1563 [01:11<00:00, 21.89it/s]\n"
     ]
    }
   ],
   "source": [
    "disc = Discriminator().to(device)\n",
    "gen = Generator(z_dim).to(device)\n",
    "\n",
    "fixed_noise = torch.randn((batch_size, z_dim)).to(device)\n",
    "\n",
    "opt_disc = optim.Adam(disc.parameters(), lr=lr)\n",
    "opt_gen = optim.Adam(gen.parameters(), lr=lr)\n",
    "criterion = nn.BCELoss()\n",
    "\n",
    "writer_fake = SummaryWriter(f\"cifar_logs/fake\")\n",
    "writer_real = SummaryWriter(f\"cifar_logs/real\")\n",
    "step = 0\n",
    "\n",
    "for epoch in range(num_epochs):\n",
    "    for batch_idx, (real) in enumerate(tqdm(train_dataloader)):\n",
    "        # real is a batched tensor of the shape (batch_size, *img_dims) *img_dims = 1, 28, 28 for MNIST\n",
    "        real = real.to(device)\n",
    "        batch_size = real.shape[0]\n",
    "\n",
    "        ### Train Discriminator: max log(D(x)) + log(1 - D(G(z)))\n",
    "        ## The Discriminator must always be trained first to provide meaningful gradients for the generator\n",
    "        noise = torch.randn(batch_size, z_dim).to(device)\n",
    "        fake = gen(noise)\n",
    "        disc_real = disc(real).view(-1)\n",
    "        # torch.ones_like function creates a tensor of the same shape as the input tensor filled with ones\n",
    "        lossD_real = criterion(disc_real, torch.ones_like(disc_real))\n",
    "        disc_fake = disc(fake).view(-1)\n",
    "        lossD_fake = criterion(disc_fake, torch.zeros_like(disc_fake))\n",
    "        lossD = (lossD_real + lossD_fake) / 2\n",
    "        disc.zero_grad()\n",
    "        lossD.backward(retain_graph=True)\n",
    "        opt_disc.step()\n",
    "\n",
    "        ### Train Generator: min log(1 - D(G(z))) <-> max log(D(G(z))\n",
    "        ## Here only the fake samples are passed to the discriminator as only those matter in measuring the quality of the generator\n",
    "        output = disc(fake).view(-1)\n",
    "        lossG = criterion(output, torch.ones_like(output))\n",
    "        gen.zero_grad() # clears old gradients\n",
    "        lossG.backward() # computes new gradients\n",
    "        opt_gen.step() # updates weights based on gradients\n",
    "\n",
    "        if batch_idx == 0:\n",
    "            print(\n",
    "                f\"Epoch [{epoch}/{num_epochs}] Batch {batch_idx}/{len(train_dataloader)} \\\n",
    "                      Loss D: {lossD:.4f}, loss G: {lossG:.4f}\"\n",
    "            )\n",
    "\n",
    "            with torch.no_grad():\n",
    "                fake = gen(fixed_noise)\n",
    "                data = real\n",
    "                img_grid_fake = torchvision.utils.make_grid(fake, normalize=True)\n",
    "                img_grid_real = torchvision.utils.make_grid(data, normalize=True)\n",
    "\n",
    "                writer_fake.add_image(\n",
    "                    \"CIFAR Fake Images\", img_grid_fake, global_step=step\n",
    "                )\n",
    "                writer_real.add_image(\n",
    "                    \"CIFAR Real Images\", img_grid_real, global_step=step\n",
    "                )\n",
    "                step += 1\n",
    "    # Save the model checkpoints\n",
    "    torch.save(disc.state_dict(), \"cifar_disc.pth\")\n",
    "    torch.save(gen.state_dict(), \"cifar_gen.pth\")\n",
    "    "
   ]
  },
  {
   "cell_type": "code",
   "execution_count": 2,
   "id": "7e1d038e",
   "metadata": {},
   "outputs": [
    {
     "ename": "NameError",
     "evalue": "name 'z_dim' is not defined",
     "output_type": "error",
     "traceback": [
      "\u001b[31m---------------------------------------------------------------------------\u001b[39m",
      "\u001b[31mNameError\u001b[39m                                 Traceback (most recent call last)",
      "\u001b[36mCell\u001b[39m\u001b[36m \u001b[39m\u001b[32mIn[2]\u001b[39m\u001b[32m, line 5\u001b[39m\n\u001b[32m      2\u001b[39m \u001b[38;5;28;01mimport\u001b[39;00m\u001b[38;5;250m \u001b[39m\u001b[34;01mtorch\u001b[39;00m\n\u001b[32m      4\u001b[39m \u001b[38;5;28;01mwith\u001b[39;00m torch.no_grad():\n\u001b[32m----> \u001b[39m\u001b[32m5\u001b[39m     noise = torch.randn(\u001b[32m64\u001b[39m, \u001b[43mz_dim\u001b[49m).to(device)\n\u001b[32m      6\u001b[39m     fake_images = gen(noise)\n\u001b[32m      7\u001b[39m     img_grid = torchvision.utils.make_grid(fake_images, normalize=\u001b[38;5;28;01mTrue\u001b[39;00m)\n",
      "\u001b[31mNameError\u001b[39m: name 'z_dim' is not defined"
     ]
    }
   ],
   "source": [
    "# Generate Sample images from random noise\n",
    "import torch\n",
    "\n",
    "with torch.no_grad():\n",
    "    noise = torch.randn(64, z_dim).to(device)\n",
    "    fake_images = gen(noise)\n",
    "    img_grid = torchvision.utils.make_grid(fake_images, normalize=True)"
   ]
  },
  {
   "cell_type": "code",
   "execution_count": null,
   "id": "96e8b489",
   "metadata": {},
   "outputs": [],
   "source": [
    "# training loop"
   ]
  },
  {
   "cell_type": "code",
   "execution_count": null,
   "id": "033d8e66",
   "metadata": {},
   "outputs": [],
   "source": [
    "# inference block"
   ]
  }
 ],
 "metadata": {
  "kernelspec": {
   "display_name": ".venv",
   "language": "python",
   "name": "python3"
  },
  "language_info": {
   "codemirror_mode": {
    "name": "ipython",
    "version": 3
   },
   "file_extension": ".py",
   "mimetype": "text/x-python",
   "name": "python",
   "nbconvert_exporter": "python",
   "pygments_lexer": "ipython3",
   "version": "3.12.0"
  }
 },
 "nbformat": 4,
 "nbformat_minor": 5
}
